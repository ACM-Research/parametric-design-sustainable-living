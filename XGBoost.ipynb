{
  "nbformat": 4,
  "nbformat_minor": 0,
  "metadata": {
    "colab": {
      "name": "XGBoost.ipynb",
      "provenance": []
    },
    "kernelspec": {
      "name": "python3",
      "display_name": "Python 3"
    },
    "language_info": {
      "name": "python"
    }
  },
  "cells": [
    {
      "cell_type": "code",
      "execution_count": null,
      "metadata": {
        "colab": {
          "base_uri": "https://localhost:8080/"
        },
        "id": "xxIHbGR9aElF",
        "outputId": "c23e0b79-44a9-4687-bcfc-2a140472add9"
      },
      "outputs": [
        {
          "output_type": "stream",
          "name": "stdout",
          "text": [
            "[22:10:15] WARNING: /workspace/src/objective/regression_obj.cu:152: reg:linear is now deprecated in favor of reg:squarederror.\n",
            "77315.37971244333\n"
          ]
        }
      ],
      "source": [
        "import pandas as pd\n",
        "from xgboost import XGBRegressor\n",
        "from sklearn.metrics import mean_absolute_error\n",
        "\n",
        "#reading in the data \n",
        "x_train_data = pd.read_excel('training.xlsx')\n",
        "test_data = pd.read_excel('testing.xlsx')\n",
        "validation = pd.read_excel('validation.xlsx')\n",
        "\n",
        "#separate target from the features in training\n",
        "x_train_data.drop(['Observed GWP (assessed)'], axis = 1).values\n",
        "target_train = x_train_data['Observed GWP (assessed)'].values\n",
        "\n",
        "#separate target from features in validation\n",
        "validation.drop(['Observed GWP (assessed)'], axis = 1).values\n",
        "target_valid = validation['Observed GWP (assessed)'].values\n",
        "\n",
        "#set up the model\n",
        "model = XGBRegressor(n_estimators = 99, max_depth = 8, random_state = 0)\n",
        "model.fit(x_train_data, target_train)\n",
        "\n",
        "#get predictions\n",
        "predictions = model.predict(validation)\n",
        "\n",
        "#calculate the mean absolute error\n",
        "mae = mean_absolute_error(predictions, target_valid)\n",
        "print(mae)"
      ]
    }
  ]
}