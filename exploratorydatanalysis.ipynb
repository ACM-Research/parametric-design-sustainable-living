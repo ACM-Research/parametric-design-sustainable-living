{
  "nbformat": 4,
  "nbformat_minor": 0,
  "metadata": {
    "colab": {
      "name": "exploratorydatanalysis.ipynb",
      "provenance": [],
      "collapsed_sections": [],
      "toc_visible": true
    },
    "kernelspec": {
      "name": "python3",
      "display_name": "Python 3"
    },
    "language_info": {
      "name": "python"
    }
  },
  "cells": [
    {
      "cell_type": "code",
      "execution_count": null,
      "metadata": {
        "colab": {
          "base_uri": "https://localhost:8080/"
        },
        "id": "wGc2VFn8lB3j",
        "outputId": "a00a7ada-84a2-4a6d-b3c3-439d041fc473"
      },
      "outputs": [
        {
          "output_type": "stream",
          "name": "stdout",
          "text": [
            "0.6723478351373485\n"
          ]
        }
      ],
      "source": [
        "import matplotlib.pyplot as plt\n",
        "import pandas as pd\n",
        "\n",
        "y = \"floornumber\"\n",
        "df = pd.read_excel('training.xlsx')\n",
        "column1 = df[y]\n",
        "column2 = df[\"Observed GWP (assessed)\"]\n",
        "correlation = column1.corr(column2)\n",
        "print(correlation)\n",
        "df.plot(kind = 'scatter', x = 'Observed GWP (assessed)', y = 'floor')\n",
        "#plt.show()"
      ]
    },
    {
      "cell_type": "markdown",
      "source": [
        "drop orientation, \n",
        "location also has a low correlation val (0.0788)\n",
        "elevation height low val (0.0221)"
      ],
      "metadata": {
        "id": "jEE3dtPzrCVD"
      }
    }
  ]
}