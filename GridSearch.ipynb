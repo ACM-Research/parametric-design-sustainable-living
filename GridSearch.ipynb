{
  "nbformat": 4,
  "nbformat_minor": 0,
  "metadata": {
    "colab": {
      "name": "GridSearch.ipynb",
      "provenance": [],
      "toc_visible": true
    },
    "kernelspec": {
      "name": "python3",
      "display_name": "Python 3"
    },
    "language_info": {
      "name": "python"
    }
  },
  "cells": [
    {
      "cell_type": "code",
      "execution_count": null,
      "metadata": {
        "colab": {
          "base_uri": "https://localhost:8080/"
        },
        "id": "cNmixP5CvixY",
        "outputId": "5f69763a-89c1-4fae-e9b7-c79aee37207e"
      },
      "outputs": [
        {
          "output_type": "stream",
          "name": "stdout",
          "text": [
            "0.999474126881663\n",
            "{'eta': 0.1, 'max_depth': 7, 'n_estimators': 200, 'objective': 'reg:squarederror'}\n"
          ]
        }
      ],
      "source": [
        "import pandas as pd\n",
        "import numpy as np\n",
        "from xgboost import XGBRegressor\n",
        "from sklearn.model_selection import GridSearchCV\n",
        "\n",
        "#load the data sets\n",
        "x_train_data = pd.read_excel('training.xlsx')\n",
        "test_data = pd.read_excel('testing.xlsx')\n",
        "validation_data = pd.read_excel('validation.xlsx')\n",
        "\n",
        "#separate target\n",
        "x_train_data.drop(['Observed GWP (assessed)'], axis = 1).values\n",
        "train_target = x_train_data['Observed GWP (assessed)'].values\n",
        "#separate in validation\n",
        "validation_data.drop(['Observed GWP (assessed)'], axis = 1).values\n",
        "valid_target = validation_data['Observed GWP (assessed)'].values\n",
        "\n",
        "#set up search space\n",
        "model = XGBRegressor()\n",
        "param = {\n",
        "    'eta': [0.1, 0.2, 0.3], #determine the weights?\n",
        "    'max_depth': [3, 4, 5, 6, 7],\n",
        "    'n_estimators': [100, 200, 300, 400, 500, 600],\n",
        "    'objective': ['reg:squarederror']\n",
        "}\n",
        "\n",
        "xgb_grid = GridSearchCV(model, param)\n",
        "xgb_grid.fit(x_train_data, train_target)\n",
        "\n",
        "print(xgb_grid.best_score_)\n",
        "print(xgb_grid.best_params_)"
      ]
    }
  ]
}